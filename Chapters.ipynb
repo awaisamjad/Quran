{
 "cells": [
  {
   "cell_type": "code",
   "execution_count": 18,
   "metadata": {},
   "outputs": [],
   "source": [
    "import pandas as pd"
   ]
  },
  {
   "cell_type": "code",
   "execution_count": 154,
   "metadata": {},
   "outputs": [],
   "source": [
    "import http.client\n",
    "import json\n",
    "\n",
    "conn = http.client.HTTPSConnection(\"api.quran.com\")\n",
    "\n",
    "payload = \"{}\"\n",
    "\n",
    "conn.request(\"GET\", \"/api/v4/chapters?language=en\", payload)\n",
    "\n",
    "res = conn.getresponse()\n",
    "data = res.read().decode(\"utf-8\")\n",
    "\n",
    "# Parse the response data as JSON into a dictionary\n",
    "data_dict = json.loads(data)"
   ]
  },
  {
   "cell_type": "code",
   "execution_count": 155,
   "metadata": {},
   "outputs": [],
   "source": [
    "rows  = []\n",
    "for chapter in data_dict[\"chapters\"]:\n",
    "    rows.append(chapter)"
   ]
  },
  {
   "cell_type": "code",
   "execution_count": 156,
   "metadata": {},
   "outputs": [],
   "source": [
    "df = pd.DataFrame(rows)"
   ]
  },
  {
   "cell_type": "code",
   "execution_count": 158,
   "metadata": {},
   "outputs": [],
   "source": [
    "df[\"revelation_place\"] = df[\"revelation_place\"].str.capitalize()"
   ]
  },
  {
   "cell_type": "code",
   "execution_count": 159,
   "metadata": {},
   "outputs": [],
   "source": [
    "df[\"pages\"] = df[\"pages\"].astype(str)"
   ]
  },
  {
   "cell_type": "code",
   "execution_count": 161,
   "metadata": {},
   "outputs": [
    {
     "name": "stdout",
     "output_type": "stream",
     "text": [
      "[106, 128, 151, 177, 187, 208, 221, 235, 249, 255, 262, 267, 282, 293, 305, 312, 322, 332, 342, 350, 359, 367, 377, 385, 396, 404, 411, 415, 418, 428, 434, 440, 446, 453, 458, 467, 477, 483, 489, 496, 499, 502, 507, 511, 515, 518, 520, 523, 526, 528, 531, 534, 537, 542, 545, 549, 551, 553, 554, 556, 558, 560, 562, 564, 566, 568, 570, 572, 574, 575, 577, 578, 580, 582, 583, 585, 586, 587, 587, 589, 590, 591, 591, 592, 593, 594, 595, 595, 596, 596, 597, 597, 598, 598, 599, 599, 600, 600, 601, 601, 601, 602, 602, 602, 603, 603, 603, 604, 604, 604]\n",
      "[127, 150, 176, 186, 207, 221, 235, 248, 255, 261, 267, 281, 293, 304, 312, 321, 331, 341, 349, 359, 366, 376, 385, 396, 404, 410, 414, 417, 427, 434, 440, 445, 452, 458, 467, 476, 482, 489, 495, 498, 502, 506, 510, 515, 517, 520, 523, 525, 528, 531, 534, 537, 541, 545, 548, 551, 552, 554, 555, 557, 559, 561, 564, 566, 568, 570, 571, 573, 575, 577, 578, 580, 581, 583, 584, 585, 586, 587, 589, 589, 590, 591, 592, 592, 594, 594, 595, 596, 596, 596, 597, 597, 598, 599, 599, 600, 600, 600, 601, 601, 601, 602, 602, 602, 603, 603, 603, 604, 604, 604]\n"
     ]
    }
   ],
   "source": [
    "items_to_remove = [\"[\", \",\", \" \", \"]\"]\n",
    "page_start_list = []\n",
    "page_end_list = []\n",
    "for i in df['pages'][4:]:\n",
    "    i = list(i)\n",
    "    i.remove(\"[\")\n",
    "    i.remove(\",\")\n",
    "    i.remove(\" \")\n",
    "    i.remove(\"]\")\n",
    "    for sublist in i[:3]:\n",
    "        page_start_list.append(sublist)\n",
    "    for sublist in i[3:]:\n",
    "        page_end_list.append(sublist)\n",
    "page_start_list = [int(''.join(page_start_list[i:i+3])) for i in range(0, len(page_start_list), 3)]  \n",
    "page_end_list = [int(''.join(page_end_list[i:i+3])) for i in range(0, len(page_end_list), 3)]      \n"
   ]
  },
  {
   "cell_type": "code",
   "execution_count": 162,
   "metadata": {},
   "outputs": [],
   "source": [
    "page_start_list = [1] + [2] + [50] + [77] + page_start_list"
   ]
  },
  {
   "cell_type": "code",
   "execution_count": 163,
   "metadata": {},
   "outputs": [],
   "source": [
    "page_end_list = [1] + [49] + [76] + [106] + page_end_list"
   ]
  },
  {
   "cell_type": "code",
   "execution_count": 164,
   "metadata": {},
   "outputs": [],
   "source": [
    "df[\"Start_Page_Number\"] = page_start_list\n",
    "df[\"End_Page_Number\"] = page_end_list"
   ]
  },
  {
   "cell_type": "code",
   "execution_count": 167,
   "metadata": {},
   "outputs": [],
   "source": [
    "df = df.rename(columns={\"id\":\"Surah_Number\",\n",
    "                        \"revelation_place\": \"Place_of_Revelation\",\n",
    "                        \"revelation_order\":\"Order_of_Revelation\",\n",
    "                        \"bismillah_pre\":\"Pre_Bismillah\",\n",
    "                        \"name_simple\":\"Name(simple)\",\n",
    "                        \"name_complex\":\"Name(complex)\",\n",
    "                        \"name_arabic\"  :\"Name(Arabic)\",\n",
    "                        \"verses_count\":\"Verse_Count\",\n",
    "                        \"pages\": \"Pages\",\n",
    "                        \"translated_name\":\"Translated_Name(English)\",\n",
    "                        })"
   ]
  },
  {
   "cell_type": "code",
   "execution_count": 175,
   "metadata": {},
   "outputs": [],
   "source": [
    "df[\"Translated_Name(English)\"] = df[\"Translated_Name(English)\"].astype(str)"
   ]
  },
  {
   "cell_type": "code",
   "execution_count": 186,
   "metadata": {},
   "outputs": [],
   "source": [
    "df[\"Translated_Name(English)\"] = [value.replace(\"{'language_name': 'english', 'name': '\", \"\") for value in df[\"Translated_Name(English)\"]]"
   ]
  },
  {
   "cell_type": "code",
   "execution_count": 190,
   "metadata": {},
   "outputs": [],
   "source": [
    "df[\"Translated_Name(English)\"] = [value.replace(\"'}\", \"\") for value in df[\"Translated_Name(English)\"]]"
   ]
  },
  {
   "cell_type": "code",
   "execution_count": 192,
   "metadata": {},
   "outputs": [],
   "source": [
    "df.to_csv(\"Chapters_df.csv\")"
   ]
  }
 ],
 "metadata": {
  "kernelspec": {
   "display_name": "Python 3",
   "language": "python",
   "name": "python3"
  },
  "language_info": {
   "codemirror_mode": {
    "name": "ipython",
    "version": 3
   },
   "file_extension": ".py",
   "mimetype": "text/x-python",
   "name": "python",
   "nbconvert_exporter": "python",
   "pygments_lexer": "ipython3",
   "version": "3.10.9"
  },
  "orig_nbformat": 4
 },
 "nbformat": 4,
 "nbformat_minor": 2
}
